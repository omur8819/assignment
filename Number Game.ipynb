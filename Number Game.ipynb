{
 "cells": [
  {
   "cell_type": "code",
   "execution_count": null,
   "metadata": {},
   "outputs": [
    {
     "name": "stdin",
     "output_type": "stream",
     "text": [
      "1 ile 100 arasında değer giriniz : 50\n"
     ]
    },
    {
     "name": "stdout",
     "output_type": "stream",
     "text": [
      "Daha düşük bir sayi giriniz.\n"
     ]
    },
    {
     "name": "stdin",
     "output_type": "stream",
     "text": [
      "1 ile 100 arasında değer giriniz : 45\n"
     ]
    },
    {
     "name": "stdout",
     "output_type": "stream",
     "text": [
      "Daha düşük bir sayi giriniz.\n"
     ]
    },
    {
     "name": "stdin",
     "output_type": "stream",
     "text": [
      "1 ile 100 arasında değer giriniz : 30\n"
     ]
    },
    {
     "name": "stdout",
     "output_type": "stream",
     "text": [
      "Daha düşük bir sayi giriniz.\n"
     ]
    },
    {
     "name": "stdin",
     "output_type": "stream",
     "text": [
      "1 ile 100 arasında değer giriniz : 25\n"
     ]
    },
    {
     "name": "stdout",
     "output_type": "stream",
     "text": [
      "Daha yüksek bir sayi giriniz.\n"
     ]
    },
    {
     "name": "stdin",
     "output_type": "stream",
     "text": [
      "1 ile 100 arasında değer giriniz : 30\n"
     ]
    },
    {
     "name": "stdout",
     "output_type": "stream",
     "text": [
      "Daha düşük bir sayi giriniz.\n"
     ]
    },
    {
     "name": "stdin",
     "output_type": "stream",
     "text": [
      "1 ile 100 arasında değer giriniz : 28\n"
     ]
    },
    {
     "name": "stdout",
     "output_type": "stream",
     "text": [
      "Daha yüksek bir sayi giriniz.\n"
     ]
    },
    {
     "name": "stdin",
     "output_type": "stream",
     "text": [
      "1 ile 100 arasında değer giriniz : 29\n"
     ]
    },
    {
     "name": "stdout",
     "output_type": "stream",
     "text": [
      "Seçilen sayi 29 , Deneme sayisi 7\n"
     ]
    }
   ],
   "source": [
    "from random import randint\n",
    "random=randint(1, 100)\n",
    "deneme=0\n",
    "while True:\n",
    "    deneme+=1\n",
    "    sayi=int(input(\"1 ile 100 arasında değer giriniz :\"))\n",
    "    if sayi < random:\n",
    "        print(\"Daha yüksek bir sayi giriniz.\")\n",
    "        continue\n",
    "    elif sayi > random:\n",
    "        print(\"Daha düşük bir sayi giriniz.\")\n",
    "        continue\n",
    "    else:\n",
    "        print(\"Seçilen sayi {0}\".format(random), \", Deneme sayisi {0}\".format(deneme))"
   ]
  },
  {
   "cell_type": "code",
   "execution_count": null,
   "metadata": {},
   "outputs": [],
   "source": []
  }
 ],
 "metadata": {
  "kernelspec": {
   "display_name": "Python 3",
   "language": "python",
   "name": "python3"
  },
  "language_info": {
   "codemirror_mode": {
    "name": "ipython",
    "version": 3
   },
   "file_extension": ".py",
   "mimetype": "text/x-python",
   "name": "python",
   "nbconvert_exporter": "python",
   "pygments_lexer": "ipython3",
   "version": "3.7.6"
  }
 },
 "nbformat": 4,
 "nbformat_minor": 4
}
