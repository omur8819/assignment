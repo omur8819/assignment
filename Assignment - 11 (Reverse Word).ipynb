{
 "cells": [
  {
   "cell_type": "code",
   "execution_count": 1,
   "metadata": {},
   "outputs": [],
   "source": [
    "# Function to reverse each word in the string\n",
    "def reverse_word(s, start, end):\n",
    "    while start < end:\n",
    "        s[start], s[end] = s[end], s[start]\n",
    "        start = start + 1\n",
    "        end -= 1\n",
    " \n",
    " \n",
    "s = \"i like this program very much\"\n",
    "\n",
    "s = list(s)\n",
    "start = 0\n",
    "while True:\n",
    "    try:\n",
    "        # Find the next space\n",
    "        end = s.index(' ', start)\n",
    " \n",
    "        # Call reverse_word function\n",
    "        # to reverse each word\n",
    "        reverse_word(s, start, end - 1)\n",
    " \n",
    "        #Update start variable\n",
    "        start = end + 1\n",
    " \n",
    "    except ValueError:\n",
    " \n",
    "        # Reverse the last word\n",
    "        reverse_word(s, start, len(s) - 1)\n",
    "        break\n",
    "        \n",
    "s.reverse()\n",
    "\n",
    "s = \"\".join(s)\n",
    " \n",
    "print(s)\n",
    " \n"
   ]
  },
  {
   "cell_type": "code",
   "execution_count": null,
   "metadata": {},
   "outputs": [],
   "source": []
  }
 ],
 "metadata": {
  "kernelspec": {
   "display_name": "Python 3",
   "language": "python",
   "name": "python3"
  },
  "language_info": {
   "codemirror_mode": {
    "name": "ipython",
    "version": 3
   },
   "file_extension": ".py",
   "mimetype": "text/x-python",
   "name": "python",
   "nbconvert_exporter": "python",
   "pygments_lexer": "ipython3",
   "version": "3.7.6"
  }
 },
 "nbformat": 4,
 "nbformat_minor": 4
}
